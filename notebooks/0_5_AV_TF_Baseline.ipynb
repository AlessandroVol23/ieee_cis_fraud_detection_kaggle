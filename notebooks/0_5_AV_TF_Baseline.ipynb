{
  "nbformat": 4,
  "nbformat_minor": 0,
  "metadata": {
    "colab": {
      "name": "0.5_AV_TF_Baseline.ipynb",
      "version": "0.3.2",
      "provenance": [],
      "collapsed_sections": [],
      "machine_shape": "hm",
      "include_colab_link": true
    },
    "kernelspec": {
      "name": "python3",
      "display_name": "Python 3"
    },
    "accelerator": "GPU"
  },
  "cells": [
    {
      "cell_type": "markdown",
      "metadata": {
        "id": "view-in-github",
        "colab_type": "text"
      },
      "source": [
        "<a href=\"https://colab.research.google.com/github/AlessandroVol23/ieee_cis_fraud_detection_kaggle/blob/master/notebooks/0_5_AV_TF_Baseline.ipynb\" target=\"_parent\"><img src=\"https://colab.research.google.com/assets/colab-badge.svg\" alt=\"Open In Colab\"/></a>"
      ]
    },
    {
      "cell_type": "code",
      "metadata": {
        "id": "g80ummiq-lBC",
        "colab_type": "code",
        "colab": {}
      },
      "source": [
        "import os\n",
        "\n",
        "import numpy as np\n",
        "import pandas as pd\n",
        "from sklearn import preprocessing\n",
        "import xgboost as xgb\n",
        "\n",
        "import tensorflow as tf"
      ],
      "execution_count": 0,
      "outputs": []
    },
    {
      "cell_type": "markdown",
      "metadata": {
        "id": "AfVCPX10-NiD",
        "colab_type": "text"
      },
      "source": [
        "## Functions"
      ]
    },
    {
      "cell_type": "code",
      "metadata": {
        "id": "HzZ1MnJ5-NGk",
        "colab_type": "code",
        "colab": {}
      },
      "source": [
        "## Function to reduce the DF size\n",
        "def reduce_mem_usage(df, verbose=True):\n",
        "    numerics = ['int16', 'int32', 'int64', 'float16', 'float32', 'float64']\n",
        "    start_mem = df.memory_usage().sum() / 1024**2    \n",
        "    for col in df.columns:\n",
        "        col_type = df[col].dtypes\n",
        "        if col_type in numerics:\n",
        "            c_min = df[col].min()\n",
        "            c_max = df[col].max()\n",
        "            if str(col_type)[:3] == 'int':\n",
        "                if c_min > np.iinfo(np.int8).min and c_max < np.iinfo(np.int8).max:\n",
        "                    df[col] = df[col].astype(np.int8)\n",
        "                elif c_min > np.iinfo(np.int16).min and c_max < np.iinfo(np.int16).max:\n",
        "                    df[col] = df[col].astype(np.int16)\n",
        "                elif c_min > np.iinfo(np.int32).min and c_max < np.iinfo(np.int32).max:\n",
        "                    df[col] = df[col].astype(np.int32)\n",
        "                elif c_min > np.iinfo(np.int64).min and c_max < np.iinfo(np.int64).max:\n",
        "                    df[col] = df[col].astype(np.int64)  \n",
        "            else:\n",
        "                if c_min > np.finfo(np.float16).min and c_max < np.finfo(np.float16).max:\n",
        "                    df[col] = df[col].astype(np.float16)\n",
        "                elif c_min > np.finfo(np.float32).min and c_max < np.finfo(np.float32).max:\n",
        "                    df[col] = df[col].astype(np.float32)\n",
        "                else:\n",
        "                    df[col] = df[col].astype(np.float64)    \n",
        "    end_mem = df.memory_usage().sum() / 1024**2\n",
        "    if verbose: print('Mem. usage decreased to {:5.2f} Mb ({:.1f}% reduction)'.format(end_mem, 100 * (start_mem - end_mem) / start_mem))\n",
        "    return df"
      ],
      "execution_count": 0,
      "outputs": []
    },
    {
      "cell_type": "markdown",
      "metadata": {
        "id": "quGMclAEnuSB",
        "colab_type": "text"
      },
      "source": [
        "## colab kaggle init"
      ]
    },
    {
      "cell_type": "code",
      "metadata": {
        "id": "adw32gD4H84O",
        "colab_type": "code",
        "outputId": "6d43d113-6740-4d9f-803a-af1435548b8a",
        "colab": {
          "base_uri": "https://localhost:8080/",
          "height": 34
        }
      },
      "source": [
        "import os.path\n",
        "\n",
        "if not os.path.exists('kaggle.json'):\n",
        "  print(\"Kaggle Folder doesn't exist yet\")\n",
        "  from google.colab import files\n",
        "  print(\"Please click on button an upload your kaggle.json api file\")\n",
        "  files.upload()\n",
        "  \n",
        "  !mkdir -p ~/.kaggle\n",
        "  !cp kaggle.json ~/.kaggle/\n",
        "  !chmod 600 ~/.kaggle/kaggle.json\n",
        "  !ls ~/.kaggle\n",
        "  \n",
        "  !pip install -q kaggle\n",
        "  !pip install -q kaggle-cli\n",
        "  \n",
        "  !kaggle competitions download -c ieee-fraud-detection\n",
        "  \n",
        "  !unzip \\*.zip\n",
        "  \n",
        "  from IPython.display import clear_output\n",
        "  clear_output()\n",
        "  \n",
        "  print(\"DONE!\")\n",
        "  \n",
        "else:\n",
        "  print(\"Data already exists\")"
      ],
      "execution_count": 0,
      "outputs": [
        {
          "output_type": "stream",
          "text": [
            "Data already exists\n"
          ],
          "name": "stdout"
        }
      ]
    },
    {
      "cell_type": "markdown",
      "metadata": {
        "id": "MvfTpwKt58Nf",
        "colab_type": "text"
      },
      "source": [
        "## Data"
      ]
    },
    {
      "cell_type": "code",
      "metadata": {
        "id": "EZi0D_PJnuSC",
        "colab_type": "code",
        "colab": {}
      },
      "source": [
        "df_train_ident = pd.read_csv('train_identity.csv', index_col='TransactionID')\n",
        "df_test_ident = pd.read_csv('test_identity.csv', index_col='TransactionID')\n",
        "\n",
        "df_train_trans = pd.read_csv('train_transaction.csv', index_col='TransactionID')\n",
        "df_test_trans = pd.read_csv('test_transaction.csv', index_col='TransactionID')\n",
        "\n",
        "df_sample_submission = pd.read_csv('sample_submission.csv', index_col='TransactionID')"
      ],
      "execution_count": 0,
      "outputs": []
    },
    {
      "cell_type": "markdown",
      "metadata": {
        "id": "WJP6Xxo959kP",
        "colab_type": "text"
      },
      "source": [
        "## Preprocessing"
      ]
    },
    {
      "cell_type": "code",
      "metadata": {
        "id": "3qm_X7-VnuSF",
        "colab_type": "code",
        "colab": {}
      },
      "source": [
        "df_train = df_train_trans.merge(df_train_ident, how='left', left_index=True, right_index=True)\n",
        "df_test = df_test_trans.merge(df_test_ident, how='left', left_index=True, right_index=True)\n",
        "\n",
        "\n",
        "print(df_train.shape)\n",
        "print(df_test.shape)"
      ],
      "execution_count": 0,
      "outputs": []
    },
    {
      "cell_type": "code",
      "metadata": {
        "id": "fjLXNN2z74wI",
        "colab_type": "code",
        "colab": {}
      },
      "source": [
        "df_train = reduce_mem_usage(df_train)\n",
        "df_test = reduce_mem_usage(df_test)"
      ],
      "execution_count": 0,
      "outputs": []
    },
    {
      "cell_type": "code",
      "metadata": {
        "id": "ZmgpeCtA-ElY",
        "colab_type": "code",
        "colab": {}
      },
      "source": [
        "emails = {'gmail': 'google', 'att.net': 'att', 'twc.com': 'spectrum', \n",
        "          'scranton.edu': 'other', 'optonline.net': 'other', 'hotmail.co.uk': 'microsoft',\n",
        "          'comcast.net': 'other', 'yahoo.com.mx': 'yahoo', 'yahoo.fr': 'yahoo',\n",
        "          'yahoo.es': 'yahoo', 'charter.net': 'spectrum', 'live.com': 'microsoft', \n",
        "          'aim.com': 'aol', 'hotmail.de': 'microsoft', 'centurylink.net': 'centurylink',\n",
        "          'gmail.com': 'google', 'me.com': 'apple', 'earthlink.net': 'other', 'gmx.de': 'other',\n",
        "          'web.de': 'other', 'cfl.rr.com': 'other', 'hotmail.com': 'microsoft', \n",
        "          'protonmail.com': 'other', 'hotmail.fr': 'microsoft', 'windstream.net': 'other', \n",
        "          'outlook.es': 'microsoft', 'yahoo.co.jp': 'yahoo', 'yahoo.de': 'yahoo',\n",
        "          'servicios-ta.com': 'other', 'netzero.net': 'other', 'suddenlink.net': 'other',\n",
        "          'roadrunner.com': 'other', 'sc.rr.com': 'other', 'live.fr': 'microsoft',\n",
        "          'verizon.net': 'yahoo', 'msn.com': 'microsoft', 'q.com': 'centurylink', \n",
        "          'prodigy.net.mx': 'att', 'frontier.com': 'yahoo', 'anonymous.com': 'other', \n",
        "          'rocketmail.com': 'yahoo', 'sbcglobal.net': 'att', 'frontiernet.net': 'yahoo', \n",
        "          'ymail.com': 'yahoo', 'outlook.com': 'microsoft', 'mail.com': 'other', \n",
        "          'bellsouth.net': 'other', 'embarqmail.com': 'centurylink', 'cableone.net': 'other', \n",
        "          'hotmail.es': 'microsoft', 'mac.com': 'apple', 'yahoo.co.uk': 'yahoo', 'netzero.com': 'other', \n",
        "          'yahoo.com': 'yahoo', 'live.com.mx': 'microsoft', 'ptd.net': 'other', 'cox.net': 'other',\n",
        "          'aol.com': 'aol', 'juno.com': 'other', 'icloud.com': 'apple'}\n",
        "\n",
        "us_emails = ['gmail', 'net', 'edu']\n",
        "\n",
        "# https://www.kaggle.com/c/ieee-fraud-detection/discussion/100499#latest-579654\n",
        "for c in ['P_emaildomain', 'R_emaildomain']:\n",
        "    df_train[c + '_bin'] = df_train[c].map(emails)\n",
        "    df_test[c + '_bin'] = df_test[c].map(emails)\n",
        "    \n",
        "    df_train[c + '_suffix'] = df_train[c].map(lambda x: str(x).split('.')[-1])\n",
        "    df_test[c + '_suffix'] = df_test[c].map(lambda x: str(x).split('.')[-1])\n",
        "    \n",
        "    df_train[c + '_suffix'] = df_train[c + '_suffix'].map(lambda x: x if str(x) not in us_emails else 'us')\n",
        "    df_test[c + '_suffix'] = df_test[c + '_suffix'].map(lambda x: x if str(x) not in us_emails else 'us')"
      ],
      "execution_count": 0,
      "outputs": []
    },
    {
      "cell_type": "code",
      "metadata": {
        "id": "ORixa2YSBnRP",
        "colab_type": "code",
        "colab": {}
      },
      "source": [
        "df_train.head(10)"
      ],
      "execution_count": 0,
      "outputs": []
    },
    {
      "cell_type": "code",
      "metadata": {
        "id": "W9pvri3xB7j8",
        "colab_type": "code",
        "colab": {}
      },
      "source": [
        "# Encode all categorical features\n",
        "for f in df_train.drop('isFraud', axis=1).columns:\n",
        "    if df_train[f].dtype=='object' or df_test[f].dtype=='object': \n",
        "        lbl = preprocessing.LabelEncoder()\n",
        "        lbl.fit(list(df_train[f].values) + list(df_test[f].values))\n",
        "        df_train[f] = lbl.transform(list(df_train[f].values))\n",
        "        df_test[f] = lbl.transform(list(df_test[f].values))   "
      ],
      "execution_count": 0,
      "outputs": []
    },
    {
      "cell_type": "code",
      "metadata": {
        "id": "GonoLDv0B-an",
        "colab_type": "code",
        "colab": {}
      },
      "source": [
        "# Some feature engineering\n",
        "\n",
        "df_train['Trans_min_mean'] = df_train['TransactionAmt'] - df_train['TransactionAmt'].mean()\n",
        "df_train['Trans_min_std'] = df_train['Trans_min_mean'] / df_train['TransactionAmt'].std()\n",
        "df_test['Trans_min_mean'] = df_test['TransactionAmt'] - df_test['TransactionAmt'].mean()\n",
        "df_test['Trans_min_std'] = df_test['Trans_min_mean'] / df_test['TransactionAmt'].std()\n",
        "\n",
        "df_train['TransactionAmt_to_mean_card1'] = df_train['TransactionAmt'] / df_train.groupby(['card1'])['TransactionAmt'].transform('mean')\n",
        "df_train['TransactionAmt_to_mean_card4'] = df_train['TransactionAmt'] / df_train.groupby(['card4'])['TransactionAmt'].transform('mean')\n",
        "df_train['TransactionAmt_to_std_card1'] = df_train['TransactionAmt'] / df_train.groupby(['card1'])['TransactionAmt'].transform('std')\n",
        "df_train['TransactionAmt_to_std_card4'] = df_train['TransactionAmt'] / df_train.groupby(['card4'])['TransactionAmt'].transform('std')\n",
        "\n",
        "df_test['TransactionAmt_to_mean_card1'] = df_test['TransactionAmt'] / df_test.groupby(['card1'])['TransactionAmt'].transform('mean')\n",
        "df_test['TransactionAmt_to_mean_card4'] = df_test['TransactionAmt'] / df_test.groupby(['card4'])['TransactionAmt'].transform('mean')\n",
        "df_test['TransactionAmt_to_std_card1'] = df_test['TransactionAmt'] / df_test.groupby(['card1'])['TransactionAmt'].transform('std')\n",
        "df_test['TransactionAmt_to_std_card4'] = df_test['TransactionAmt'] / df_test.groupby(['card4'])['TransactionAmt'].transform('std')"
      ],
      "execution_count": 0,
      "outputs": []
    },
    {
      "cell_type": "code",
      "metadata": {
        "id": "4fOZmv_-JfD6",
        "colab_type": "code",
        "colab": {}
      },
      "source": [
        "df_train.head()"
      ],
      "execution_count": 0,
      "outputs": []
    },
    {
      "cell_type": "code",
      "metadata": {
        "id": "koPgNA-DJucU",
        "colab_type": "code",
        "colab": {}
      },
      "source": [
        "df_train['TransactionAmt'] = np.log(df_train['TransactionAmt'])\n",
        "df_test['TransactionAmt'] = np.log(df_test['TransactionAmt'])"
      ],
      "execution_count": 0,
      "outputs": []
    },
    {
      "cell_type": "markdown",
      "metadata": {
        "id": "u_JKH69WKfGB",
        "colab_type": "text"
      },
      "source": [
        "## Model"
      ]
    },
    {
      "cell_type": "code",
      "metadata": {
        "id": "6-t27YEHJu8G",
        "colab_type": "code",
        "colab": {}
      },
      "source": [
        "df_train.head()"
      ],
      "execution_count": 0,
      "outputs": []
    },
    {
      "cell_type": "code",
      "metadata": {
        "id": "Xr3VzIxAKu0B",
        "colab_type": "code",
        "colab": {}
      },
      "source": [
        "df_test.head()"
      ],
      "execution_count": 0,
      "outputs": []
    },
    {
      "cell_type": "code",
      "metadata": {
        "id": "DllXo9i3KvfG",
        "colab_type": "code",
        "colab": {}
      },
      "source": [
        "print(df_train.shape)\n",
        "print(df_test.shape)"
      ],
      "execution_count": 0,
      "outputs": []
    },
    {
      "cell_type": "code",
      "metadata": {
        "id": "Mvf_6VPdKykR",
        "colab_type": "code",
        "colab": {}
      },
      "source": [
        "# Copy label\n",
        "y_train = df_train['isFraud'].copy()\n",
        "\n",
        "# Delete label\n",
        "X_train = df_train.drop('isFraud', axis=1)\n",
        "\n",
        "# Create X\n",
        "X_test = df_test.copy()\n",
        "\n",
        "del df_train, df_test, df_train_ident, df_test_ident, df_train_trans, df_test_trans"
      ],
      "execution_count": 0,
      "outputs": []
    },
    {
      "cell_type": "code",
      "metadata": {
        "id": "irjO3WTGBjmy",
        "colab_type": "code",
        "colab": {}
      },
      "source": [
        "X_train.head()"
      ],
      "execution_count": 0,
      "outputs": []
    },
    {
      "cell_type": "code",
      "metadata": {
        "id": "6O6ffBpUPu_q",
        "colab_type": "code",
        "colab": {}
      },
      "source": [
        "X_tr"
      ],
      "execution_count": 0,
      "outputs": []
    },
    {
      "cell_type": "code",
      "metadata": {
        "id": "duAxO-EwBnxC",
        "colab_type": "code",
        "colab": {}
      },
      "source": [
        "sample_X = X_train.copy()"
      ],
      "execution_count": 0,
      "outputs": []
    },
    {
      "cell_type": "code",
      "metadata": {
        "id": "rh4aPE2TLSlp",
        "colab_type": "code",
        "colab": {}
      },
      "source": [
        "sample_X.fillna(-1, inplace=True)"
      ],
      "execution_count": 0,
      "outputs": []
    },
    {
      "cell_type": "code",
      "metadata": {
        "id": "WfUXIQ5RU44d",
        "colab_type": "code",
        "colab": {}
      },
      "source": [
        "sample_X[:] = np.nan_to_num(sample_X)"
      ],
      "execution_count": 0,
      "outputs": []
    },
    {
      "cell_type": "code",
      "metadata": {
        "id": "4q1L1aQnqmaf",
        "colab_type": "code",
        "colab": {}
      },
      "source": [
        "sample_X.shape"
      ],
      "execution_count": 0,
      "outputs": []
    },
    {
      "cell_type": "code",
      "metadata": {
        "id": "HnSyij9NHSCY",
        "colab_type": "code",
        "colab": {}
      },
      "source": [
        "_END_ROWS = 440\n",
        "x = sample_X.values[:, :_END_ROWS]\n",
        "y = y_train.values[:]\n",
        "\n",
        "print(\"Null values in x: \", np.isnan(x).sum())\n",
        "print(\"Null values in y: \", np.isnan(y).sum())\n",
        "\n",
        "print(\"Shape x: \", x.shape)\n",
        "print(\"Shape y: \", y.shape)"
      ],
      "execution_count": 0,
      "outputs": []
    },
    {
      "cell_type": "markdown",
      "metadata": {
        "id": "PxQqbADIB25F",
        "colab_type": "text"
      },
      "source": [
        "## Normalise Data"
      ]
    },
    {
      "cell_type": "code",
      "metadata": {
        "id": "e1ltjUJVB4Jn",
        "colab_type": "code",
        "colab": {}
      },
      "source": [
        "from sklearn.preprocessing import StandardScaler\n",
        "scaler = StandardScaler()\n",
        "x = scaler.fit_transform(x)\n"
      ],
      "execution_count": 0,
      "outputs": []
    },
    {
      "cell_type": "markdown",
      "metadata": {
        "id": "Z84AxeTLPiQv",
        "colab_type": "text"
      },
      "source": [
        "## Test Train Split"
      ]
    },
    {
      "cell_type": "code",
      "metadata": {
        "id": "9ESoysiUPXBE",
        "colab_type": "code",
        "colab": {}
      },
      "source": [
        "from sklearn.model_selection import train_test_split\n",
        "X_tr, X_te, y_val, y_val = train_test_split(\n",
        "    x, y, test_size=0.33, random_state=42)"
      ],
      "execution_count": 0,
      "outputs": []
    },
    {
      "cell_type": "markdown",
      "metadata": {
        "id": "aHqKH2XRBzaL",
        "colab_type": "text"
      },
      "source": [
        "## Tensorflow Model"
      ]
    },
    {
      "cell_type": "code",
      "metadata": {
        "id": "Fv3sXTY8F9QP",
        "colab_type": "code",
        "colab": {}
      },
      "source": [
        "import datetime\n",
        "logdir = os.path.join(\"logs\", datetime.datetime.now().strftime(\"%Y%m%d-%H%M%S\"))\n",
        "tensorboard_callback = tf.keras.callbacks.TensorBoard(logdir, histogram_freq=1)\n",
        "\n",
        "# Roc-AUC Callback\n",
        "from sklearn.metrics import roc_auc_score\n",
        "from keras.callbacks import Callback\n",
        "class roc_callback(Callback):\n",
        "    def __init__(self,training_data, validation_data):\n",
        "        self.x = training_data[0]\n",
        "        self.y = training_data[1]\n",
        "        self.x_val = validation_data[0]\n",
        "        self.y_val = validation_data[1]\n",
        "\n",
        "\n",
        "    def on_train_begin(self, logs={}):\n",
        "        return\n",
        "\n",
        "    def on_train_end(self, logs={}):\n",
        "        return\n",
        "\n",
        "    def on_epoch_begin(self, epoch, logs={}):\n",
        "        return\n",
        "\n",
        "    def on_epoch_end(self, epoch, logs={}):\n",
        "        y_pred = self.model.predict(self.x)\n",
        "        roc = roc_auc_score(self.y, y_pred)\n",
        "        y_pred_val = self.model.predict(self.x_val)\n",
        "        roc_val = roc_auc_score(self.y_val, y_pred_val)\n",
        "        print('\\rroc-auc: %s - roc-auc_val: %s' % (str(round(roc,4)),str(round(roc_val,4))),end=100*' '+'\\n')\n",
        "        print('\\rroc-auc: %s - roc-auc_val: %s' % (str(round(roc,4)),str(round(roc_val,4))),end=100*' '+'\\n')\n",
        "        # print(\"\\n\" + \"ROC-AUC Score is: {}\".format(str(round(roc, 4))) + \"\\n\")\n",
        "        return\n",
        "\n",
        "    def on_batch_begin(self, batch, logs={}):\n",
        "        return\n",
        "\n",
        "    def on_batch_end(self, batch, logs={}):\n",
        "        return\n",
        "   "
      ],
      "execution_count": 0,
      "outputs": []
    },
    {
      "cell_type": "code",
      "metadata": {
        "id": "lhKg_Kc5B0Ss",
        "colab_type": "code",
        "colab": {}
      },
      "source": [
        "from tensorflow import keras\n",
        "model = tf.keras.Sequential(\n",
        "    [\n",
        "        keras.layers.Dense(units=512, input_shape=[_END_ROWS], activation='sigmoid'),\n",
        "        keras.layers.BatchNormalization(),\n",
        "        keras.layers.Dense(units=256, activation='sigmoid'),\n",
        "        keras.layers.BatchNormalization(),\n",
        "        keras.layers.Dense(units=128, activation='sigmoid'),\n",
        "        keras.layers.Dense(units=1, activation='sigmoid')\n",
        "    ]\n",
        ")\n",
        "\n",
        "from tensorflow.keras.optimizers import RMSprop\n",
        "\n",
        "model.compile(loss='binary_crossentropy',\n",
        "              optimizer=RMSprop(lr=0.001),\n",
        "              metrics=['acc'])"
      ],
      "execution_count": 0,
      "outputs": []
    },
    {
      "cell_type": "code",
      "metadata": {
        "id": "vJF4U0tNGiRl",
        "colab_type": "code",
        "colab": {}
      },
      "source": [
        "model.summary()"
      ],
      "execution_count": 0,
      "outputs": []
    },
    {
      "cell_type": "code",
      "metadata": {
        "id": "1viJsMLZKHjO",
        "colab_type": "code",
        "colab": {}
      },
      "source": [
        "model.fit(x, y, callbacks=[roc_callback(training_data=(x, y)), tensorboard_callback], epochs=15)              "
      ],
      "execution_count": 0,
      "outputs": []
    },
    {
      "cell_type": "code",
      "metadata": {
        "id": "b9Ovwpd_QAB_",
        "colab_type": "code",
        "colab": {}
      },
      "source": [
        "model.fit(X_tr, y_tr, validation_data=(X_val, y_val), callbacks=[roc_callback(training_data=(X_tr, y_tr),validation_data=(X_val, y_val))])"
      ],
      "execution_count": 0,
      "outputs": []
    },
    {
      "cell_type": "markdown",
      "metadata": {
        "id": "5Q7rIAlzoqeK",
        "colab_type": "text"
      },
      "source": [
        "- Find problem of value error. So increase columns and feel faulty column\n",
        "- Problem with 442 columns but not with 440\n",
        "- Probel is in 441:442\n",
        "- For now I just use data till 440"
      ]
    },
    {
      "cell_type": "code",
      "metadata": {
        "id": "wR6zb1vBfwVZ",
        "colab_type": "code",
        "colab": {}
      },
      "source": [
        "%load_ext tensorboard\n",
        "%tensorboard --logdir logs"
      ],
      "execution_count": 0,
      "outputs": []
    },
    {
      "cell_type": "code",
      "metadata": {
        "id": "lWARNldnomCo",
        "colab_type": "code",
        "colab": {}
      },
      "source": [
        ""
      ],
      "execution_count": 0,
      "outputs": []
    }
  ]
}