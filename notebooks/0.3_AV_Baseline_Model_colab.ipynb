{
  "nbformat": 4,
  "nbformat_minor": 0,
  "metadata": {
    "kernelspec": {
      "name": "python3",
      "display_name": "Python 3"
    },
    "language_info": {
      "codemirror_mode": {
        "name": "ipython",
        "version": 3
      },
      "file_extension": ".py",
      "mimetype": "text/x-python",
      "name": "python",
      "nbconvert_exporter": "python",
      "pygments_lexer": "ipython3",
      "version": "3.7.3"
    },
    "colab": {
      "name": "0.2_AV_Baseline_Model.ipynb",
      "version": "0.3.2",
      "provenance": [],
      "include_colab_link": true
    },
    "accelerator": "GPU"
  },
  "cells": [
    {
      "cell_type": "markdown",
      "metadata": {
        "id": "view-in-github",
        "colab_type": "text"
      },
      "source": [
        "<a href=\"https://colab.research.google.com/github/AlessandroVol23/ieee_cis_fraud_detection_kaggle/blob/master/notebooks/0.3_AV_Baseline_Model_colab.ipynb\" target=\"_parent\"><img src=\"https://colab.research.google.com/assets/colab-badge.svg\" alt=\"Open In Colab\"/></a>"
      ]
    },
    {
      "cell_type": "markdown",
      "metadata": {
        "id": "PhpMy6lJnuR6",
        "colab_type": "text"
      },
      "source": [
        "# Baseline Model\n",
        "\n",
        "In here I'll create a baseline model. \n",
        "\n",
        "Kernel https://www.kaggle.com/artkulak/ieee-fraud-simple-baseline-0-9383-lb\n",
        "\n",
        "I just encode all non-numerical labels "
      ]
    },
    {
      "cell_type": "markdown",
      "metadata": {
        "id": "GFvsxMCunuR9",
        "colab_type": "text"
      },
      "source": [
        "## Imports"
      ]
    },
    {
      "cell_type": "code",
      "metadata": {
        "id": "NQu8ujk0nuR-",
        "colab_type": "code",
        "colab": {}
      },
      "source": [
        "import os\n",
        "\n",
        "import numpy as np\n",
        "import pandas as pd\n",
        "from sklearn import preprocessing\n",
        "import xgboost as xgb"
      ],
      "execution_count": 0,
      "outputs": []
    },
    {
      "cell_type": "markdown",
      "metadata": {
        "id": "quGMclAEnuSB",
        "colab_type": "text"
      },
      "source": [
        "## colab kaggle init"
      ]
    },
    {
      "cell_type": "code",
      "metadata": {
        "id": "vdDBfvq1pR4N",
        "colab_type": "code",
        "colab": {}
      },
      "source": [
        "from google.colab import files\n",
        "files.upload()"
      ],
      "execution_count": 0,
      "outputs": []
    },
    {
      "cell_type": "code",
      "metadata": {
        "id": "icIVwXc-pkra",
        "colab_type": "code",
        "colab": {
          "base_uri": "https://localhost:8080/",
          "height": 34
        },
        "outputId": "c9544ae6-9eae-4975-bb75-6433c9fec438"
      },
      "source": [
        "!mkdir -p ~/.kaggle\n",
        "!cp kaggle.json ~/.kaggle/\n",
        "!chmod 600 ~/.kaggle/kaggle.json\n",
        "!ls ~/.kaggle"
      ],
      "execution_count": 6,
      "outputs": [
        {
          "output_type": "stream",
          "text": [
            "kaggle.json\n"
          ],
          "name": "stdout"
        }
      ]
    },
    {
      "cell_type": "code",
      "metadata": {
        "id": "zA8PwGyCptzp",
        "colab_type": "code",
        "colab": {
          "base_uri": "https://localhost:8080/",
          "height": 136
        },
        "outputId": "19012c47-e0a9-41f0-db1c-cf4e9f75d1e4"
      },
      "source": [
        "!pip install -q kaggle\n",
        "!pip install -q kaggle-cli"
      ],
      "execution_count": 8,
      "outputs": [
        {
          "output_type": "stream",
          "text": [
            "\u001b[K     |████████████████████████████████| 81kB 3.2MB/s \n",
            "\u001b[K     |████████████████████████████████| 5.3MB 8.4MB/s \n",
            "\u001b[K     |████████████████████████████████| 112kB 59.9MB/s \n",
            "\u001b[K     |████████████████████████████████| 102kB 35.3MB/s \n",
            "\u001b[K     |████████████████████████████████| 51kB 22.7MB/s \n",
            "\u001b[?25h  Building wheel for kaggle-cli (setup.py) ... \u001b[?25l\u001b[?25hdone\n",
            "  Building wheel for pyperclip (setup.py) ... \u001b[?25l\u001b[?25hdone\n"
          ],
          "name": "stdout"
        }
      ]
    },
    {
      "cell_type": "code",
      "metadata": {
        "id": "668Ywxo1p-Rr",
        "colab_type": "code",
        "colab": {
          "base_uri": "https://localhost:8080/",
          "height": 272
        },
        "outputId": "a73eb0bc-f2ec-44df-e5e4-87da36da3b20"
      },
      "source": [
        "!kaggle competitions download -c ieee-fraud-detection"
      ],
      "execution_count": 10,
      "outputs": [
        {
          "output_type": "stream",
          "text": [
            "Downloading train_transaction.csv.zip to /content\n",
            " 93% 49.0M/52.5M [00:00<00:00, 53.0MB/s]\n",
            "100% 52.5M/52.5M [00:00<00:00, 97.4MB/s]\n",
            "Downloading train_identity.csv.zip to /content\n",
            "  0% 0.00/3.02M [00:00<?, ?B/s]\n",
            "100% 3.02M/3.02M [00:00<00:00, 99.2MB/s]\n",
            "Downloading test_transaction.csv.zip to /content\n",
            " 97% 46.0M/47.3M [00:00<00:00, 82.5MB/s]\n",
            "100% 47.3M/47.3M [00:00<00:00, 158MB/s] \n",
            "Downloading test_identity.csv.zip to /content\n",
            "  0% 0.00/2.97M [00:00<?, ?B/s]\n",
            "100% 2.97M/2.97M [00:00<00:00, 200MB/s]\n",
            "Downloading sample_submission.csv.zip to /content\n",
            "  0% 0.00/1.14M [00:00<?, ?B/s]\n",
            "100% 1.14M/1.14M [00:00<00:00, 163MB/s]\n"
          ],
          "name": "stdout"
        }
      ]
    },
    {
      "cell_type": "code",
      "metadata": {
        "id": "gGTKx9fRqBci",
        "colab_type": "code",
        "colab": {
          "base_uri": "https://localhost:8080/",
          "height": 68
        },
        "outputId": "2a1b9683-837b-4215-8915-27533e25cb53"
      },
      "source": [
        "!ls"
      ],
      "execution_count": 14,
      "outputs": [
        {
          "output_type": "stream",
          "text": [
            "kaggle.json\t\t   test_identity.csv.zip     train_transaction.csv.zip\n",
            "sample_data\t\t   test_transaction.csv.zip\n",
            "sample_submission.csv.zip  train_identity.csv.zip\n"
          ],
          "name": "stdout"
        }
      ]
    },
    {
      "cell_type": "code",
      "metadata": {
        "id": "H02yjD2Fqd-9",
        "colab_type": "code",
        "colab": {
          "base_uri": "https://localhost:8080/",
          "height": 289
        },
        "outputId": "ef452cc9-3d29-4080-e163-c64f141d9542"
      },
      "source": [
        "!unzip \\*.zip"
      ],
      "execution_count": 16,
      "outputs": [
        {
          "output_type": "stream",
          "text": [
            "Archive:  train_identity.csv.zip\n",
            "  inflating: train_identity.csv      \n",
            "\n",
            "Archive:  sample_submission.csv.zip\n",
            "  inflating: sample_submission.csv   \n",
            "\n",
            "Archive:  test_transaction.csv.zip\n",
            "  inflating: test_transaction.csv    \n",
            "\n",
            "Archive:  test_identity.csv.zip\n",
            "  inflating: test_identity.csv       \n",
            "\n",
            "Archive:  train_transaction.csv.zip\n",
            "  inflating: train_transaction.csv   \n",
            "\n",
            "5 archives were successfully processed.\n"
          ],
          "name": "stdout"
        }
      ]
    },
    {
      "cell_type": "code",
      "metadata": {
        "id": "EZi0D_PJnuSC",
        "colab_type": "code",
        "colab": {}
      },
      "source": [
        "df_train_ident = pd.read_csv('train_identity.csv', index_col='TransactionID')\n",
        "df_test_ident = pd.read_csv('test_identity.csv', index_col='TransactionID')\n",
        "\n",
        "df_train_trans = pd.read_csv('train_transaction.csv', index_col='TransactionID')\n",
        "df_test_trans = pd.read_csv('test_transaction.csv', index_col='TransactionID')\n",
        "\n",
        "df_sample_submission = pd.read_csv('sample_submission.csv', index_col='TransactionID')"
      ],
      "execution_count": 0,
      "outputs": []
    },
    {
      "cell_type": "code",
      "metadata": {
        "id": "3qm_X7-VnuSF",
        "colab_type": "code",
        "colab": {}
      },
      "source": [
        "df_train = df_train_trans.merge(df_train_ident, how='left', left_index=True, right_index=True)\n",
        "df_test = df_test_trans.merge(df_test_ident, how='left', left_index=True, right_index=True)\n"
      ],
      "execution_count": 0,
      "outputs": []
    },
    {
      "cell_type": "code",
      "metadata": {
        "id": "Wq9xs2_DnuSI",
        "colab_type": "code",
        "colab": {
          "base_uri": "https://localhost:8080/",
          "height": 51
        },
        "outputId": "22b5f487-fc64-4f52-b895-5f884123054a"
      },
      "source": [
        "print(df_train.shape)\n",
        "print(df_test.shape)"
      ],
      "execution_count": 19,
      "outputs": [
        {
          "output_type": "stream",
          "text": [
            "(590540, 433)\n",
            "(506691, 432)\n"
          ],
          "name": "stdout"
        }
      ]
    },
    {
      "cell_type": "markdown",
      "metadata": {
        "id": "pfNsMxWPnuSM",
        "colab_type": "text"
      },
      "source": [
        "## Preprocessing"
      ]
    },
    {
      "cell_type": "code",
      "metadata": {
        "id": "GVdqVLqWnuSN",
        "colab_type": "code",
        "colab": {}
      },
      "source": [
        "# Copy label\n",
        "y_train = df_train['isFraud'].copy()\n",
        "del df_train_trans, df_train_ident, df_test_ident, df_test_trans\n",
        "\n",
        "# Delete label\n",
        "X_train = df_train.drop('isFraud', axis=1)\n",
        "\n",
        "# Create X\n",
        "X_test = df_test.copy()\n",
        "\n",
        "# Delete train and test\n",
        "\n",
        "del df_train, df_test"
      ],
      "execution_count": 0,
      "outputs": []
    },
    {
      "cell_type": "code",
      "metadata": {
        "id": "DafsBId5nuSQ",
        "colab_type": "code",
        "colab": {}
      },
      "source": [
        "# Encode all non numerical values\n",
        "\n",
        "for f in X_train.columns:\n",
        "    if X_train[f].dtype=='object' or X_test[f].dtype=='object': \n",
        "        lbl = preprocessing.LabelEncoder()\n",
        "        lbl.fit(list(X_train[f].values) + list(X_test[f].values))\n",
        "        X_train[f] = lbl.transform(list(X_train[f].values))\n",
        "        X_test[f] = lbl.transform(list(X_test[f].values))  "
      ],
      "execution_count": 0,
      "outputs": []
    },
    {
      "cell_type": "markdown",
      "metadata": {
        "id": "WTir0uQFnuST",
        "colab_type": "text"
      },
      "source": [
        "## Reduce Memory\n",
        "\n",
        "Kernel: https://www.kaggle.com/arjanso/reducing-dataframe-memory-size-by-65"
      ]
    },
    {
      "cell_type": "code",
      "metadata": {
        "id": "3yAYtuEgnuST",
        "colab_type": "code",
        "colab": {}
      },
      "source": [
        "\n",
        "def reduce_mem_usage(df):\n",
        "    \"\"\" iterate through all the columns of a dataframe and modify the data type\n",
        "        to reduce memory usage.        \n",
        "    \"\"\"\n",
        "    start_mem = df.memory_usage().sum() / 1024**2\n",
        "    print('Memory usage of dataframe is {:.2f} MB'.format(start_mem))\n",
        "    \n",
        "    for col in df.columns:\n",
        "        col_type = df[col].dtype\n",
        "        \n",
        "        if col_type != object:\n",
        "            c_min = df[col].min()\n",
        "            c_max = df[col].max()\n",
        "            if str(col_type)[:3] == 'int':\n",
        "                if c_min > np.iinfo(np.int8).min and c_max < np.iinfo(np.int8).max:\n",
        "                    df[col] = df[col].astype(np.int8)\n",
        "                elif c_min > np.iinfo(np.int16).min and c_max < np.iinfo(np.int16).max:\n",
        "                    df[col] = df[col].astype(np.int16)\n",
        "                elif c_min > np.iinfo(np.int32).min and c_max < np.iinfo(np.int32).max:\n",
        "                    df[col] = df[col].astype(np.int32)\n",
        "                elif c_min > np.iinfo(np.int64).min and c_max < np.iinfo(np.int64).max:\n",
        "                    df[col] = df[col].astype(np.int64)  \n",
        "            else:\n",
        "                if c_min > np.finfo(np.float16).min and c_max < np.finfo(np.float16).max:\n",
        "                    df[col] = df[col].astype(np.float16)\n",
        "                elif c_min > np.finfo(np.float32).min and c_max < np.finfo(np.float32).max:\n",
        "                    df[col] = df[col].astype(np.float32)\n",
        "                else:\n",
        "                    df[col] = df[col].astype(np.float64)\n",
        "        else:\n",
        "            df[col] = df[col].astype('category')\n",
        "\n",
        "    end_mem = df.memory_usage().sum() / 1024**2\n",
        "    print('Memory usage after optimization is: {:.2f} MB'.format(end_mem))\n",
        "    print('Decreased by {:.1f}%'.format(100 * (start_mem - end_mem) / start_mem))\n",
        "    \n",
        "    return df"
      ],
      "execution_count": 0,
      "outputs": []
    },
    {
      "cell_type": "code",
      "metadata": {
        "id": "th57ZbZ4nuSW",
        "colab_type": "code",
        "colab": {
          "base_uri": "https://localhost:8080/",
          "height": 119
        },
        "outputId": "39f18fb8-f5fe-4bf2-ced9-0b2dc952123b"
      },
      "source": [
        "X_train = reduce_mem_usage(X_train)\n",
        "X_test = reduce_mem_usage(X_test)"
      ],
      "execution_count": 23,
      "outputs": [
        {
          "output_type": "stream",
          "text": [
            "Memory usage of dataframe is 1970.87 MB\n",
            "Memory usage after optimization is: 547.14 MB\n",
            "Decreased by 72.2%\n",
            "Memory usage of dataframe is 1673.87 MB\n",
            "Memory usage after optimization is: 460.02 MB\n",
            "Decreased by 72.5%\n"
          ],
          "name": "stdout"
        }
      ]
    },
    {
      "cell_type": "markdown",
      "metadata": {
        "id": "FwgmqEMenuSa",
        "colab_type": "text"
      },
      "source": [
        "## Model"
      ]
    },
    {
      "cell_type": "code",
      "metadata": {
        "id": "4gwpqFZUnuSa",
        "colab_type": "code",
        "colab": {}
      },
      "source": [
        "from sklearn.model_selection import train_test_split\n",
        "X_tr, X_val, y_tr, y_val = train_test_split(\n",
        "    X_train, y_train, test_size=0.33, random_state=42)\n"
      ],
      "execution_count": 0,
      "outputs": []
    },
    {
      "cell_type": "code",
      "metadata": {
        "id": "gf7DZqJZnuSd",
        "colab_type": "code",
        "colab": {}
      },
      "source": [
        "# First without any kfold\n",
        "from sklearn.model_selection import KFold\n",
        "from sklearn.metrics import roc_auc_score\n",
        "y_preds = np.zeros(df_sample_submission.shape[0])\n",
        "y_oof = np.zeros(X_train.shape[0])\n",
        "\n",
        "clf = xgb.XGBClassifier(\n",
        "    n_estimators=100,\n",
        "    max_depth=9,\n",
        "    learning_rate=0.05,\n",
        "    subsample=0.9,\n",
        "    colsample_bytree=0.9,\n",
        "    tree_method='auto'\n",
        ")\n",
        "\n",
        "clf.fit(X_tr, y_tr)\n",
        "y_pred_train = clf.predict_proba(X_val)[:,1]\n"
      ],
      "execution_count": 0,
      "outputs": []
    },
    {
      "cell_type": "code",
      "metadata": {
        "id": "arCPUlwqnuSg",
        "colab_type": "code",
        "colab": {},
        "outputId": "661e3882-b9b0-414c-d8b6-67f09545f0e2"
      },
      "source": [
        "y_pred_train.shape"
      ],
      "execution_count": 0,
      "outputs": [
        {
          "output_type": "execute_result",
          "data": {
            "text/plain": [
              "(194879,)"
            ]
          },
          "metadata": {
            "tags": []
          },
          "execution_count": 17
        }
      ]
    },
    {
      "cell_type": "code",
      "metadata": {
        "id": "hP82TfapnuSi",
        "colab_type": "code",
        "colab": {},
        "outputId": "f48a28e9-9f9d-4191-bcee-a0d7fd3845ee"
      },
      "source": [
        "y_val.shape"
      ],
      "execution_count": 0,
      "outputs": [
        {
          "output_type": "execute_result",
          "data": {
            "text/plain": [
              "(194879,)"
            ]
          },
          "metadata": {
            "tags": []
          },
          "execution_count": 19
        }
      ]
    },
    {
      "cell_type": "code",
      "metadata": {
        "id": "i50RZLcxnuSl",
        "colab_type": "code",
        "colab": {},
        "outputId": "4ddc4f4f-1f1e-48c6-dcca-ed6f22fda3d8"
      },
      "source": [
        "print('ROC AUC {}'.format(roc_auc_score(y_val, y_pred_train)))"
      ],
      "execution_count": 0,
      "outputs": [
        {
          "output_type": "stream",
          "text": [
            "ROC AUC 0.9283440202051165\n"
          ],
          "name": "stdout"
        }
      ]
    },
    {
      "cell_type": "code",
      "metadata": {
        "id": "qmhTGvWfnuSn",
        "colab_type": "code",
        "colab": {},
        "outputId": "07616000-678c-4a97-db48-559cff6369a7"
      },
      "source": [
        "y_pred_train"
      ],
      "execution_count": 0,
      "outputs": [
        {
          "output_type": "execute_result",
          "data": {
            "text/plain": [
              "array([0.01855968, 0.01234012, 0.00583749, ..., 0.04052692, 0.01094123,\n",
              "       0.04641531], dtype=float32)"
            ]
          },
          "metadata": {
            "tags": []
          },
          "execution_count": 16
        }
      ]
    },
    {
      "cell_type": "code",
      "metadata": {
        "id": "qATMpsyanuSq",
        "colab_type": "code",
        "colab": {
          "base_uri": "https://localhost:8080/",
          "height": 153
        },
        "outputId": "760a8724-038d-4d30-bfa0-734ffebaf7e5"
      },
      "source": [
        "% time\n",
        "from sklearn.model_selection import KFold\n",
        "from sklearn.metrics import roc_auc_score\n",
        "EPOCHS = 3\n",
        "kf = KFold(n_splits = EPOCHS, shuffle = True)\n",
        "y_preds = np.zeros(df_sample_submission.shape[0])\n",
        "y_oof = np.zeros(X_train.shape[0])\n",
        "i = 0\n",
        "for tr_idx, val_idx in kf.split(X_train, y_train):\n",
        "    i += 1\n",
        "    print(\"Split {}\".format(i))\n",
        "    clf = xgb.XGBClassifier(\n",
        "        n_estimators=500,\n",
        "        max_depth=9,\n",
        "        learning_rate=0.05,\n",
        "        subsample=0.9,\n",
        "        colsample_bytree=0.9,\n",
        "        tree_method='gpu_hist'\n",
        "    )\n",
        "    \n",
        "    X_tr, X_vl = X_train.iloc[tr_idx, :], X_train.iloc[val_idx, :]\n",
        "    y_tr, y_vl = y_train.iloc[tr_idx], y_train.iloc[val_idx]\n",
        "    clf.fit(X_tr, y_tr)\n",
        "    y_pred_train = clf.predict_proba(X_vl)[:,1]\n",
        "    y_oof[val_idx] = y_pred_train\n",
        "    print('ROC AUC {}'.format(roc_auc_score(y_vl, y_pred_train)))\n",
        "    \n",
        "    y_preds+= clf.predict_proba(X_test)[:,1] / EPOCHS"
      ],
      "execution_count": 27,
      "outputs": [
        {
          "output_type": "stream",
          "text": [
            "CPU times: user 2 µs, sys: 0 ns, total: 2 µs\n",
            "Wall time: 5.25 µs\n",
            "Split 1\n",
            "ROC AUC 0.9631735781893863\n",
            "Split 2\n",
            "ROC AUC 0.9629258488568295\n",
            "Split 3\n",
            "ROC AUC 0.9631861721026433\n"
          ],
          "name": "stdout"
        }
      ]
    },
    {
      "cell_type": "code",
      "metadata": {
        "id": "yujUdSKe0Nhd",
        "colab_type": "code",
        "colab": {
          "base_uri": "https://localhost:8080/",
          "height": 51
        },
        "outputId": "cddf506c-749c-4ad7-a261-a23b092785e8"
      },
      "source": [
        "y_preds[:10]"
      ],
      "execution_count": 30,
      "outputs": [
        {
          "output_type": "execute_result",
          "data": {
            "text/plain": [
              "array([0.00294482, 0.00089532, 0.00268825, 0.00259867, 0.00119732,\n",
              "       0.00432064, 0.0107135 , 0.01641461, 0.0002049 , 0.00641528])"
            ]
          },
          "metadata": {
            "tags": []
          },
          "execution_count": 30
        }
      ]
    },
    {
      "cell_type": "code",
      "metadata": {
        "id": "jwFaPp8s0VhU",
        "colab_type": "code",
        "colab": {}
      },
      "source": [
        "X_test_preds = X_test.assign(isFraud = y_preds)"
      ],
      "execution_count": 0,
      "outputs": []
    },
    {
      "cell_type": "code",
      "metadata": {
        "id": "NkxBePOz1I2d",
        "colab_type": "code",
        "colab": {}
      },
      "source": [
        "X_test_preds = X_test_preds[['isFraud']]"
      ],
      "execution_count": 0,
      "outputs": []
    },
    {
      "cell_type": "code",
      "metadata": {
        "id": "ce2naPHh0dGu",
        "colab_type": "code",
        "colab": {}
      },
      "source": [
        "X_test_preds.to_csv('preds.csv')"
      ],
      "execution_count": 0,
      "outputs": []
    },
    {
      "cell_type": "code",
      "metadata": {
        "id": "0z61T5n11ASt",
        "colab_type": "code",
        "colab": {
          "base_uri": "https://localhost:8080/",
          "height": 204
        },
        "outputId": "037f2846-105b-4e2f-c5ce-0255edce7790"
      },
      "source": [
        "pd.read_csv('preds.csv').head()"
      ],
      "execution_count": 47,
      "outputs": [
        {
          "output_type": "execute_result",
          "data": {
            "text/html": [
              "<div>\n",
              "<style scoped>\n",
              "    .dataframe tbody tr th:only-of-type {\n",
              "        vertical-align: middle;\n",
              "    }\n",
              "\n",
              "    .dataframe tbody tr th {\n",
              "        vertical-align: top;\n",
              "    }\n",
              "\n",
              "    .dataframe thead th {\n",
              "        text-align: right;\n",
              "    }\n",
              "</style>\n",
              "<table border=\"1\" class=\"dataframe\">\n",
              "  <thead>\n",
              "    <tr style=\"text-align: right;\">\n",
              "      <th></th>\n",
              "      <th>TransactionID</th>\n",
              "      <th>isFraud</th>\n",
              "    </tr>\n",
              "  </thead>\n",
              "  <tbody>\n",
              "    <tr>\n",
              "      <th>0</th>\n",
              "      <td>3663549</td>\n",
              "      <td>0.002945</td>\n",
              "    </tr>\n",
              "    <tr>\n",
              "      <th>1</th>\n",
              "      <td>3663550</td>\n",
              "      <td>0.000895</td>\n",
              "    </tr>\n",
              "    <tr>\n",
              "      <th>2</th>\n",
              "      <td>3663551</td>\n",
              "      <td>0.002688</td>\n",
              "    </tr>\n",
              "    <tr>\n",
              "      <th>3</th>\n",
              "      <td>3663552</td>\n",
              "      <td>0.002599</td>\n",
              "    </tr>\n",
              "    <tr>\n",
              "      <th>4</th>\n",
              "      <td>3663553</td>\n",
              "      <td>0.001197</td>\n",
              "    </tr>\n",
              "  </tbody>\n",
              "</table>\n",
              "</div>"
            ],
            "text/plain": [
              "   TransactionID   isFraud\n",
              "0        3663549  0.002945\n",
              "1        3663550  0.000895\n",
              "2        3663551  0.002688\n",
              "3        3663552  0.002599\n",
              "4        3663553  0.001197"
            ]
          },
          "metadata": {
            "tags": []
          },
          "execution_count": 47
        }
      ]
    },
    {
      "cell_type": "code",
      "metadata": {
        "id": "GRowFz0P1E7e",
        "colab_type": "code",
        "colab": {
          "base_uri": "https://localhost:8080/",
          "height": 51
        },
        "outputId": "509d0dd7-2dfe-4161-eca2-28fd13a36f05"
      },
      "source": [
        "!kaggle competitions submit -c ieee-fraud-detection -f preds.csv -m \"First Baseline model\""
      ],
      "execution_count": 48,
      "outputs": [
        {
          "output_type": "stream",
          "text": [
            "100% 14.1M/14.1M [00:00<00:00, 26.1MB/s]\n",
            "Successfully submitted to IEEE-CIS Fraud Detection"
          ],
          "name": "stdout"
        }
      ]
    },
    {
      "cell_type": "code",
      "metadata": {
        "id": "L3HiueWD1lLN",
        "colab_type": "code",
        "colab": {}
      },
      "source": [
        ""
      ],
      "execution_count": 0,
      "outputs": []
    }
  ]
}